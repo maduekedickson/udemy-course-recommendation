{
 "cells": [
  {
   "cell_type": "code",
   "execution_count": null,
   "id": "d05ca29b-d5f5-464f-ae8b-350d0f28d875",
   "metadata": {
    "collapsed": true,
    "jupyter": {
     "outputs_hidden": true
    }
   },
   "outputs": [],
   "source": [
    "import pandas as pd\n",
    "import numpy as np\n",
    "import neattext.functions as nfx\n",
    "import seaborn as sn\n",
    "\n",
    "from sklearn.feature_extraction.text import TfidfVectorizer, CountVectorizer\n",
    "from sklearn.metrics.pairwise import cosine_similarity, linear_kernel\n"
   ]
  },
  {
   "cell_type": "code",
   "execution_count": null,
   "id": "f27ac350-1a34-404b-adb7-f5968123dab3",
   "metadata": {
    "collapsed": true,
    "jupyter": {
     "outputs_hidden": true
    }
   },
   "outputs": [],
   "source": [
    "df = pd.read_csv('udemy_course_data.csv')\n",
    "df.head()"
   ]
  },
  {
   "cell_type": "code",
   "execution_count": null,
   "id": "6b66dde7-a9a6-4b87-9203-6bb2dd4dd8ec",
   "metadata": {
    "collapsed": true,
    "jupyter": {
     "outputs_hidden": true
    }
   },
   "outputs": [],
   "source": [
    "dir(nfx)\n"
   ]
  },
  {
   "cell_type": "code",
   "execution_count": null,
   "id": "08145654-7267-494a-ba10-d1358433c14f",
   "metadata": {
    "collapsed": true,
    "jupyter": {
     "outputs_hidden": true
    }
   },
   "outputs": [],
   "source": [
    "df['Clean_title'] = df['course_title'].apply(nfx.remove_stopwords)\n",
    "df['Clean_title'] = df['Clean_title'].apply(nfx.remove_special_characters)\n",
    "df['Clean_title'] = df['Clean_title'].str.lower()"
   ]
  },
  {
   "cell_type": "code",
   "execution_count": null,
   "id": "bf0b66fe-c2ac-4893-83a7-92b622b75362",
   "metadata": {
    "collapsed": true,
    "jupyter": {
     "outputs_hidden": true
    }
   },
   "outputs": [],
   "source": [
    "countvect = CountVectorizer()\n",
    "cv_mat = countvect.fit_transform(df['Clean_title'])\n"
   ]
  },
  {
   "cell_type": "code",
   "execution_count": null,
   "id": "c52a6bc1-49c9-49e3-a5d6-185e4fa3e6d6",
   "metadata": {
    "collapsed": true,
    "jupyter": {
     "outputs_hidden": true
    }
   },
   "outputs": [],
   "source": [
    "cosine_sim_mat = cosine_similarity(cv_mat)\n"
   ]
  },
  {
   "cell_type": "code",
   "execution_count": null,
   "id": "bfba2fec-906f-4cfc-9f3a-5e7849c63881",
   "metadata": {
    "collapsed": true,
    "jupyter": {
     "outputs_hidden": true
    }
   },
   "outputs": [],
   "source": [
    "course_index = pd.Series(df.index, index=df['course_title']).drop_duplicates()\n"
   ]
  },
  {
   "cell_type": "code",
   "execution_count": null,
   "id": "75be176e-eff1-4673-9c7c-f859fdb7cb57",
   "metadata": {
    "collapsed": true,
    "jupyter": {
     "outputs_hidden": true
    }
   },
   "outputs": [],
   "source": [
    "course_dict = dict(course_index)"
   ]
  },
  {
   "cell_type": "code",
   "execution_count": null,
   "id": "4c117f2f-cfc9-4798-850d-9b05e639dc93",
   "metadata": {
    "collapsed": true,
    "jupyter": {
     "outputs_hidden": true
    }
   },
   "outputs": [],
   "source": [
    "# Initialize the variables\n",
    "keyword = 'Java'\n",
    "touse = {}  # Initialize touse as an empty dictionary\n",
    "counter = 0\n",
    "\n",
    "# Populate touse with course titles containing the keyword\n",
    "for key, value in course_dict.items():\n",
    "    if keyword in key:\n",
    "        touse[counter] = key\n",
    "        counter += 1\n",
    "\n",
    "# Print the results\n",
    "print(touse)"
   ]
  },
  {
   "cell_type": "code",
   "execution_count": null,
   "id": "5ebaf3dd-35f0-47a6-b4ad-6d231fea11ad",
   "metadata": {
    "collapsed": true,
    "jupyter": {
     "outputs_hidden": true
    }
   },
   "outputs": [],
   "source": [
    "temp = df[df['course_title'].str.contains('Python')]\n",
    "top6 = temp.sort_values(by='num_subscribers', ascending=False).head(6)\n"
   ]
  },
  {
   "cell_type": "code",
   "execution_count": null,
   "id": "39ce5afa-92a8-4852-8ab8-c480497cb1f1",
   "metadata": {
    "collapsed": true,
    "jupyter": {
     "outputs_hidden": true
    }
   },
   "outputs": [],
   "source": [
    "index = course_index['How To Maximize Your Profits Trading Options']\n",
    "scores = list(enumerate(cosine_sim_mat[index]))\n",
    "sorted_score = sorted(scores, key=lambda x: x[1], reverse=True)\n"
   ]
  },
  {
   "cell_type": "code",
   "execution_count": null,
   "id": "63834c85-4fac-418c-8de9-0f972d6ad77a",
   "metadata": {
    "collapsed": true,
    "jupyter": {
     "outputs_hidden": true
    }
   },
   "outputs": [],
   "source": [
    "# Assuming you already have the cosine similarity matrix and course_index\n",
    "\n",
    "# Get the index of the course you want recommendations for\n",
    "index = course_index['How To Maximize Your Profits Trading Options']\n",
    "\n",
    "# Calculate the similarity scores\n",
    "scores = list(enumerate(cosine_sim_mat[index]))\n",
    "\n",
    "# Sort the scores\n",
    "sorted_scores = sorted(scores, key=lambda x: x[1], reverse=True)\n",
    "\n",
    "\n"
   ]
  },
  {
   "cell_type": "code",
   "execution_count": null,
   "id": "17300ba8-db1b-49b2-8d4d-8ddc682f08b7",
   "metadata": {
    "collapsed": true,
    "jupyter": {
     "outputs_hidden": true
    }
   },
   "outputs": [],
   "source": [
    "# Select indices and values\n",
    "sorted_indices = [i[0] for i in sorted_scores[1:]]  # Skip the first one (self-similarity)\n",
    "sorted_values = [i[1] for i in sorted_scores[1:]]\n",
    "\n",
    "# Now, create the DataFrame for recommended courses\n",
    "recommended_result_df = df.iloc[sorted_indices]\n",
    "recommended_result_df['Similarity_Score'] = np.array(sorted_values)\n",
    "\n",
    "# Display the recommended courses\n",
    "print(recommended_result_df[['course_title', 'Similarity_Score']])"
   ]
  },
  {
   "cell_type": "code",
   "execution_count": null,
   "id": "81bea912-f671-4bfe-b52b-f3777903a65b",
   "metadata": {
    "collapsed": true,
    "jupyter": {
     "outputs_hidden": true
    }
   },
   "outputs": [],
   "source": [
    "def recommend_course_based_on_keyword(keyword, numrec=10):\n",
    "    # Find courses that contain the keyword in their titles\n",
    "    matching_courses = df[df['Clean_title'].str.contains(keyword, case=False)]\n",
    "    \n",
    "    if matching_courses.empty:\n",
    "        return \"No courses found for this keyword.\"\n",
    "\n",
    "    # Vectorize the Clean_title for the matching courses\n",
    "    cv_mat = countvect.transform(matching_courses['Clean_title'])\n",
    "    cosine_sim_mat = cosine_similarity(cv_mat)\n",
    "\n",
    "    # Use the index of the first matching course\n",
    "    index = 0  # We can take the first matching course for similarity comparison\n",
    "    \n",
    "    # Calculate similarity scores\n",
    "    scores = list(enumerate(cosine_sim_mat[index]))\n",
    "    \n",
    "    # Sort the scores\n",
    "    sorted_scores = sorted(scores, key=lambda x: x[1], reverse=True)\n",
    "    \n",
    "    # Select indices and values\n",
    "    sorted_indices = [i[0] for i in sorted_scores[1:]]  # Skip self-similarity\n",
    "    sorted_values = [i[1] for i in sorted_scores[1:]]\n",
    "\n",
    "    # Prepare recommended courses using the local indices from matching_courses\n",
    "    recommended_result_df = matching_courses.iloc[sorted_indices].copy()  # Use .copy() to avoid the warning\n",
    "    recommended_result_df.loc[:, 'Similarity_Score'] = np.array(sorted_values)  # Use .loc to set the score\n",
    "\n",
    "    return recommended_result_df[['course_title', 'Similarity_Score', 'url', 'price', 'num_subscribers']].head(numrec)\n",
    "\n",
    "# Now use the new function for \"HTML\"\n",
    "html_recommendations = recommend_course_based_on_keyword('HTML', numrec=10)\n",
    "\n",
    "# Display the results\n",
    "print(html_recommendations)\n"
   ]
  },
  {
   "cell_type": "code",
   "execution_count": null,
   "id": "35bd7154-3012-4b15-a913-ed0b5b97baed",
   "metadata": {
    "collapsed": true,
    "jupyter": {
     "outputs_hidden": true
    }
   },
   "outputs": [],
   "source": [
    "ans = recommend_course_based_on_keyword('graphics design', 10)\n",
    "ans"
   ]
  },
  {
   "cell_type": "code",
   "execution_count": null,
   "id": "3915932c-ccb5-433f-a78a-683964f12ba7",
   "metadata": {
    "collapsed": true,
    "jupyter": {
     "outputs_hidden": true
    }
   },
   "outputs": [],
   "source": [
    "# confirm if a particular keyword is there\n",
    "html_courses = df[df['course_title'].str.contains('HTML', case=False)]\n",
    "html_courses"
   ]
  },
  {
   "cell_type": "code",
   "execution_count": null,
   "id": "7eed9f1a-dd9c-4cd6-bf08-323f6e60151d",
   "metadata": {
    "collapsed": true,
    "jupyter": {
     "outputs_hidden": true
    }
   },
   "outputs": [],
   "source": []
  }
 ],
 "metadata": {
  "kernelspec": {
   "display_name": "Python 3 (ipykernel)",
   "language": "python",
   "name": "python3"
  },
  "language_info": {
   "codemirror_mode": {
    "name": "ipython",
    "version": 3
   },
   "file_extension": ".py",
   "mimetype": "text/x-python",
   "name": "python",
   "nbconvert_exporter": "python",
   "pygments_lexer": "ipython3",
   "version": "3.12.3"
  }
 },
 "nbformat": 4,
 "nbformat_minor": 5
}
